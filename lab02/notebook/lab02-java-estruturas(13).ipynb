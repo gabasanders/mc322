{
 "cells": [
  {
   "cell_type": "markdown",
   "metadata": {},
   "source": [
    "# Laboratório em Estruturas de Programação Java\n",
    "\n",
    "O laboratório a seguir serve para praticar estruturas de programação Java sem compromisso com a orientação a objetos."
   ]
  },
  {
   "cell_type": "markdown",
   "metadata": {},
   "source": [
    "## Desafio 1 - Empréstimo\n",
    "\n",
    "Em um financiamento com juros compostos e número de parcelas fixas parte-se dos seguintes parâmetros:\n",
    "* `S` - valor da primeira parcela\n",
    "* `N` - número de parcelas\n",
    "* `J` - percentual de juros mensal\n",
    "\n",
    "A primeira parcela a ser paga do financiamento é sempre igual a `S`. A partir daí é feita uma atualização mensal da parcela, em que cada nova parcela é calculada a partir da parcela do mês anterior, conforme a fórmula:\n",
    "\n",
    "> Parcela<sub>mês</sub> = Parcela<sub>mês-1</sub> * (1 + `J` / 100)\n",
    "\n",
    "O financiamento encerra quando as `N` parcelas são pagas.\n",
    "\n",
    "Exemplo:\n",
    "* `S`: 200\n",
    "* `N`: 5\n",
    "* `J`: 1%\n",
    "\n",
    "Parcelas do financiamento:\n",
    "`200`; `202`; `204.02`; `206.06`; `208.12`"
   ]
  },
  {
   "cell_type": "markdown",
   "metadata": {},
   "source": [
    "### Desafio 1 / Parte 1 - Escrevendo o programa sem módulos\n",
    "\n",
    "Dado o problema descrito, escreva um programa que calcule as parcelas de um empréstimo para os seguintes valores:\n",
    "* S: 200\n",
    "* N: 5\n",
    "* J: 1%\n",
    "\n",
    "Nesta versão não use outro módulo além da função principal."
   ]
  },
  {
   "cell_type": "code",
   "execution_count": 2,
   "metadata": {},
   "outputs": [
    {
     "name": "stdout",
     "output_type": "stream",
     "text": [
      "200.00, 202.00, 204.02, 206.06, 208.12, "
     ]
    },
    {
     "data": {
      "text/plain": [
       "null"
      ]
     },
     "execution_count": 2,
     "metadata": {},
     "output_type": "execute_result"
    }
   ],
   "source": [
    "\n",
    "double s = 200;\n",
    "       int n = 5;\n",
    "       double j = 1;\n",
    "       double ParcelaAtual = 200;\n",
    "       \n",
    "       for(int i = 0;i<5;i++){\n",
    "           System.out.printf(\"%.2f, \" , ParcelaAtual);\n",
    "           ParcelaAtual = ParcelaAtual*(1 + j/100);\n",
    "       }\n",
    "\n"
   ]
  },
  {
   "cell_type": "markdown",
   "metadata": {},
   "source": [
    "### Desafio 1 / Parte 2 - Escrevendo módulos\n",
    "\n",
    "Reescreva o código acima de forma que seu programa faça uso de uma função que seja responsável pelo cálculo de uma parcela X do empréstimo. Podem ser usadas mais funções (métodos) conforme a necessidade."
   ]
  },
  {
   "cell_type": "code",
   "execution_count": 4,
   "metadata": {},
   "outputs": [
    {
     "data": {
      "text/plain": [
       "com.twosigma.beaker.javash.bkrc99f324d.teste"
      ]
     },
     "execution_count": 4,
     "metadata": {},
     "output_type": "execute_result"
    }
   ],
   "source": [
    "public class teste {\n",
    "    \n",
    "        static double ProximaParcela(double ParcelaAtual, double Juros){\n",
    "            double ProximaParcela;\n",
    "            ProximaParcela = ParcelaAtual*(1 + Juros/100);\n",
    "            return ProximaParcela;\n",
    "        }\n",
    "}\n"
   ]
  },
  {
   "cell_type": "code",
   "execution_count": 5,
   "metadata": {},
   "outputs": [
    {
     "name": "stdout",
     "output_type": "stream",
     "text": [
      "200.00, 202.00, 204.02, 206.06, 208.12, "
     ]
    },
    {
     "data": {
      "text/plain": [
       "null"
      ]
     },
     "execution_count": 5,
     "metadata": {},
     "output_type": "execute_result"
    }
   ],
   "source": [
    "double s = 200;\n",
    "        int n = 5;\n",
    "        double j = 1;\n",
    "        double ParcelaAtual = 200;\n",
    "\n",
    "        for(int i = 0;i<5;i++){\n",
    "            System.out.printf(\"%.2f, \" ,ParcelaAtual);\n",
    "            ParcelaAtual = teste.ProximaParcela(ParcelaAtual,j);\n",
    "        }"
   ]
  },
  {
   "cell_type": "markdown",
   "metadata": {},
   "source": [
    "## Desafio 2\n",
    "\n",
    "Escreva um programa que sorteie um número inteiro entre `0` e `9999` o número deve ser mostrado, em seguida convertido para binário e a versão binária deve ser apresentada no console. A conversão decimal/binário deve ser computada por um programa feito por você."
   ]
  },
  {
   "cell_type": "code",
   "execution_count": 6,
   "metadata": {},
   "outputs": [
    {
     "data": {
      "text/plain": [
       "com.twosigma.beaker.javash.bkrc99f324d.conversor"
      ]
     },
     "execution_count": 6,
     "metadata": {},
     "output_type": "execute_result"
    }
   ],
   "source": [
    "public class conversor {\n",
    "   \n",
    "    public static void converte(int numero){\n",
    "        int x = numero;\n",
    "        int contador = 0;\n",
    "        int binario[] = new int[100];\n",
    "       \n",
    "        while (x > 0){\n",
    "            int digito = x % 2;\n",
    "            x = x/2;\n",
    "           \n",
    "            binario[contador] = digito;\n",
    "            contador++;\n",
    "        }\n",
    "       \n",
    "        System.out.printf(\"Binário: \");\n",
    "        for (int i = contador - 1; i >= 0; i-- ){\n",
    "            System.out.printf(\"%d\",binario[i]);\n",
    "        }\n",
    "       \n",
    "       \n",
    "    }\n",
    "}"
   ]
  },
  {
   "cell_type": "code",
   "execution_count": 7,
   "metadata": {},
   "outputs": [
    {
     "name": "stdout",
     "output_type": "stream",
     "text": [
      "Decimal: 1885\n",
      "Binário: 11101011101"
     ]
    },
    {
     "data": {
      "text/plain": [
       "null"
      ]
     },
     "execution_count": 7,
     "metadata": {},
     "output_type": "execute_result"
    }
   ],
   "source": [
    "import java.util.Random;\n",
    "Random geraaleatorio = new Random();\n",
    "int numero = geraaleatorio.nextInt(9999);\n",
    "System.out.printf(\"Decimal: %d\\n\", numero);\n",
    "conversor.converte(numero);"
   ]
  },
  {
   "cell_type": "markdown",
   "metadata": {},
   "source": [
    "## Desafio 3\n",
    "\n",
    "Uma molécula de DNA pode ser definida a partir de uma cadeia que representa a sequência de suas bases:\n",
    "A - Adenina\n",
    "C - Citisina\n",
    "G - Guanina\n",
    "T - Tinina\n",
    "\n",
    "Desse modo, uma string pode ser usada para representar um segmento do DNA da seguinte maneira: `ATTACGCGCAAAC`.\n",
    "\n",
    "Escreva uma função (método) que codifique a cadeia de RNA produzida a partir de uma cadeia de DNA. A função deve ser genérica o suficiente para ser aplicável a qualquer cadeia. A entrada é uma string (DNA) e o retorno é uma string (RNA).\n",
    "\n",
    "Escreva um programa que teste esta função com uma cadeia de DNA de sua escolha."
   ]
  },
  {
   "cell_type": "code",
   "execution_count": 8,
   "metadata": {},
   "outputs": [
    {
     "data": {
      "text/plain": [
       "com.twosigma.beaker.javash.bkrc99f324d.conversor"
      ]
     },
     "execution_count": 8,
     "metadata": {},
     "output_type": "execute_result"
    }
   ],
   "source": [
    "public class conversor{\n",
    "   \n",
    "    public static String converte(String DNA){\n",
    "        String dna = DNA;\n",
    "        int d = 0;\n",
    "\n",
    "\n",
    "        StringBuilder criarna = new StringBuilder();\n",
    "\n",
    "        int z = dna.length();\n",
    "\n",
    "        for(int i = 0;i < z; i++){\n",
    "\n",
    "            char x = dna.charAt(d);\n",
    "\n",
    "            if(x == 'A'){\n",
    "                criarna.append('U');\n",
    "            }\n",
    "             else if(x == 'C'){\n",
    "                criarna.append('G');\n",
    "            }\n",
    "             else if(x == 'G'){\n",
    "                criarna.append('C');\n",
    "            }\n",
    "             else if(x == 'T'){\n",
    "                criarna.append('A');\n",
    "            }\n",
    "\n",
    "            d++;\n",
    "\n",
    "        }\n",
    "       \n",
    "        String rna = criarna.toString();\n",
    "        return rna;\n",
    "    }\n",
    "}\n",
    "\n"
   ]
  },
  {
   "cell_type": "code",
   "execution_count": 9,
   "metadata": {},
   "outputs": [
    {
     "name": "stdout",
     "output_type": "stream",
     "text": [
      "DNA: ATTACGCGCAAAC\n",
      "RNA: UAAUGCGCGUUUG"
     ]
    },
    {
     "data": {
      "text/plain": [
       "null"
      ]
     },
     "execution_count": 9,
     "metadata": {},
     "output_type": "execute_result"
    }
   ],
   "source": [
    "\n",
    "\n",
    "String DNA = \"ATTACGCGCAAAC\";\n",
    "System.out.printf(\"DNA: %s\\n\",DNA);\n",
    "System.out.printf(\"RNA: %s\",conversor.converte(DNA));\n",
    "\n"
   ]
  },
  {
   "cell_type": "markdown",
   "metadata": {},
   "source": [
    "## Desafio 4\n",
    "\n",
    "Uma empresa precisa realizar uma estatística do salário de seus funcionários.\n",
    "\n",
    "Para fins de teste, os salários devem ser gerados aleatoriamente com valores variando entre R\\\\$ 2.500 e R\\\\$ 15.000.\n",
    "\n",
    "Escreva um programa que gere uma lista contendo os salários de 50 funcionários da empresa e mostre no console quantos funcionários ganham salário acima da média."
   ]
  },
  {
   "cell_type": "code",
   "execution_count": 10,
   "metadata": {},
   "outputs": [
    {
     "data": {
      "text/plain": [
       "com.twosigma.beaker.javash.bkrc99f324d.contador"
      ]
     },
     "execution_count": 10,
     "metadata": {},
     "output_type": "execute_result"
    }
   ],
   "source": [
    "public class contador{\n",
    "    \n",
    "    public static int SalariosAcimaDaMedia(int funcionarios[]){\n",
    "        \n",
    "        int SomaSalarios = 0;\n",
    "        \n",
    "        for(int i = 0; i < 50;i++){   \n",
    "            SomaSalarios += funcionarios[i];\n",
    "    }\n",
    "        \n",
    "        int MediaSalarios = SomaSalarios/50;\n",
    "        \n",
    "        int NumeroDeSalariosAcimaDaMedia = 0;\n",
    "        System.out.printf(\"Média dos Salários = %d\\n\", MediaSalarios);\n",
    "        \n",
    "        System.out.printf(\"Salários acima da média: \");\n",
    "        for(int i = 0; i < 50;i++){   \n",
    "            if (funcionarios[i] > MediaSalarios){\n",
    "                NumeroDeSalariosAcimaDaMedia++;\n",
    "                System.out.printf(\"%d, \", funcionarios[i]);\n",
    "            }\n",
    "    }\n",
    "        return NumeroDeSalariosAcimaDaMedia;\n",
    "    \n",
    "\n",
    "    }\n",
    "}"
   ]
  },
  {
   "cell_type": "code",
   "execution_count": 11,
   "metadata": {},
   "outputs": [
    {
     "name": "stdout",
     "output_type": "stream",
     "text": [
      "Média dos Salários = 9623\n",
      "Salários acima da média: 13435, 14886, 9957, 14965, 11024, 11864, 10175, 11840, 11692, 11662, 14852, 12489, 12788, 13546, 12506, 10627, 13209, 9919, 14765, 13426, 12114, 13339, 10226, 12930, 11952, 13009, \n",
      "Número de salários acima da média = 26"
     ]
    },
    {
     "data": {
      "text/plain": [
       "null"
      ]
     },
     "execution_count": 11,
     "metadata": {},
     "output_type": "execute_result"
    }
   ],
   "source": [
    "import java.util.Random;\n",
    "int funcionarios[] = new int[51];\n",
    "\n",
    "\n",
    "int min = 2500;\n",
    "int max = 15000;\n",
    "      \n",
    "for(int i = 0; i < 50;i++){   \n",
    "    int salario= (int)Math.floor(Math.random()*(max-min+1)+min);\n",
    "    funcionarios[i] = salario;\n",
    "}\n",
    "\n",
    "System.out.printf(\"\\nNúmero de salários acima da média = %d\", contador.SalariosAcimaDaMedia(funcionarios));\n",
    "\n"
   ]
  },
  {
   "cell_type": "markdown",
   "metadata": {},
   "source": []
  }
 ],
 "metadata": {
  "kernelspec": {
   "display_name": "Java",
   "language": "java",
   "name": "java"
  },
  "language_info": {
   "codemirror_mode": "text/x-java",
   "file_extension": ".java",
   "mimetype": "",
   "name": "Java",
   "nbconverter_exporter": "",
   "version": "1.8.0_121"
  },
  "toc": {
   "base_numbering": 1,
   "nav_menu": {},
   "number_sections": false,
   "sideBar": false,
   "skip_h1_title": false,
   "title_cell": "Table of Contents",
   "title_sidebar": "Contents",
   "toc_cell": false,
   "toc_position": {},
   "toc_section_display": false,
   "toc_window_display": false
  }
 },
 "nbformat": 4,
 "nbformat_minor": 4
}
